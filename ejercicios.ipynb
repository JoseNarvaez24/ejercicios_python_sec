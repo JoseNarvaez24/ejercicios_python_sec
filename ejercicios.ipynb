{
  "nbformat": 4,
  "nbformat_minor": 0,
  "metadata": {
    "colab": {
      "provenance": [],
      "include_colab_link": true
    },
    "kernelspec": {
      "name": "python3",
      "display_name": "Python 3"
    },
    "language_info": {
      "name": "python"
    }
  },
  "cells": [
    {
      "cell_type": "markdown",
      "metadata": {
        "id": "view-in-github",
        "colab_type": "text"
      },
      "source": [
        "<a href=\"https://colab.research.google.com/github/JoseNarvaez24/ejercicios_python_sec/blob/main/ejercicios.ipynb\" target=\"_parent\"><img src=\"https://colab.research.google.com/assets/colab-badge.svg\" alt=\"Open In Colab\"/></a>"
      ]
    },
    {
      "cell_type": "code",
      "execution_count": 7,
      "metadata": {
        "id": "MLPy3zQWbXZM",
        "outputId": "400cc114-2753-4ff8-b80e-b10ac702a1f3",
        "colab": {
          "base_uri": "https://localhost:8080/"
        }
      },
      "outputs": [
        {
          "output_type": "stream",
          "name": "stdout",
          "text": [
            "escriba su nombre:Jose Luis\n",
            "cual es tu edad? 19\n",
            "Hola, Jose Luis\n",
            "Tienes 19 años\n"
          ]
        }
      ],
      "source": [
        "name = input(\"escriba su nombre:\")\n",
        "age = int(input(\"cual es tu edad? \"))\n",
        "print(\"Hola,\", name)\n",
        "print(\"Tienes\", str(age), \"años\")"
      ]
    },
    {
      "cell_type": "markdown",
      "source": [
        "## Ejercicio 1: Área de un rectángulo\n",
        "A = B * h\n"
      ],
      "metadata": {
        "id": "If6xtG6id-zf"
      }
    },
    {
      "cell_type": "code",
      "source": [
        "print(\"programa para calcular el area de un rectangulo\")\n",
        "b = float(input(\"Ingrese la base (m): \"))\n",
        "h = float(input(\"Ingrese la altura (m): \"))\n",
        "A = b * h\n",
        "print(\"El área del rectángulo con base\", str(b), \"(m) y altura\", str(h), \"(m) es\", str(A), \"m2.\")"
      ],
      "metadata": {
        "id": "nbQS9khQczFw",
        "outputId": "bb196756-5b06-4617-9d22-be6eef3310e0",
        "colab": {
          "base_uri": "https://localhost:8080/"
        }
      },
      "execution_count": 14,
      "outputs": [
        {
          "output_type": "stream",
          "name": "stdout",
          "text": [
            "programa para calcular el area de un rectangulo\n",
            "Ingrese la base (m): 5\n",
            "Ingrese la altura (m): 5\n",
            "El área del rectángulo con base 5.0 (m) y altura 5.0 (m) es 25.0 m2.\n"
          ]
        }
      ]
    },
    {
      "cell_type": "markdown",
      "source": [
        "## Ejercicio 2: Área del triángulo\n",
        "A = b * h / 2"
      ],
      "metadata": {
        "id": "Y42sPY1SgJL0"
      }
    },
    {
      "cell_type": "code",
      "source": [
        "print(\"programa para calcular el area de un triangulo\")\n",
        "b = float(input(\"Ingrese la base (m):\"))\n",
        "h = float(input(\"Ingrese la altura(m): \"))\n",
        "A = b * h / 2\n",
        "print(\"El area del triangulo con base\", str(b), \"(m) y altura\", str(h), \"(m) es\", str(A), \"m2.\")"
      ],
      "metadata": {
        "id": "7IJ8JLS_fMtM",
        "outputId": "819b5e8a-e02e-47a8-8698-1941656bdc88",
        "colab": {
          "base_uri": "https://localhost:8080/"
        }
      },
      "execution_count": 15,
      "outputs": [
        {
          "output_type": "stream",
          "name": "stdout",
          "text": [
            "programa para calcular el area de un triangulo\n",
            "Ingrese la base (m):2\n",
            "Ingrese la altura(m): 10\n",
            "El area del triangulo con base 2.0 (m) y altura 10.0 (m) es 10.0 m2.\n"
          ]
        }
      ]
    },
    {
      "cell_type": "markdown",
      "source": [
        "## Ejercicio 3: Área del circulo\n",
        "A = pi * r ** 2\n",
        "\n"
      ],
      "metadata": {
        "id": "SdtVdYoshwGn"
      }
    },
    {
      "cell_type": "code",
      "source": [
        "import math\n",
        "radio = float(input(\"Ingrese el radio del circulo:\"))\n",
        "area = math.pi * (radio ** 2)\n",
        "print(\" El area del circulo es:\", area)"
      ],
      "metadata": {
        "id": "Llymg5mUhdua",
        "outputId": "d961167e-61c5-48b0-bf13-d1b3dfa74a2c",
        "colab": {
          "base_uri": "https://localhost:8080/"
        }
      },
      "execution_count": 3,
      "outputs": [
        {
          "output_type": "stream",
          "name": "stdout",
          "text": [
            "Ingrese el radio del circulo:12.5\n",
            " El area del circulo es: 490.8738521234052\n"
          ]
        }
      ]
    },
    {
      "cell_type": "markdown",
      "source": [
        "## Ejercicio 4: Voltaje instantaneo\n",
        "Calcular"
      ],
      "metadata": {
        "id": "S_4LvDx3k20D"
      }
    },
    {
      "cell_type": "code",
      "source": [
        "def calcular_voltaje_instantaneo(tiempo):pendiente = float(input(\"Ingresa la pendiente de la funcion\"))\n",
        "intercepto = float = (input(\"Ingresa el intercepto de la funcion\"))\n",
        "voltaje = pendiente * tiempo + intercepto\n",
        "return calcular_voltaje_instantaneo\n",
        "tiempo = float(input(\"Ingrear el tiempo\"))\n",
        "voltaje_instantaneo = calcular_voltaje_instantaneo(tiempo)\n",
        "print(\"El voltaje instantaneo en el tiempo\", tiempo, \"segundos es:\", voltaje instantaneo)"
      ],
      "metadata": {
        "id": "tgzG_AtZjVS1",
        "outputId": "7b87cfa7-29c9-4067-e7f9-8753f888b879",
        "colab": {
          "base_uri": "https://localhost:8080/",
          "height": 140
        }
      },
      "execution_count": 2,
      "outputs": [
        {
          "output_type": "error",
          "ename": "SyntaxError",
          "evalue": "ignored",
          "traceback": [
            "\u001b[0;36m  File \u001b[0;32m\"<ipython-input-2-b3b29f587c75>\"\u001b[0;36m, line \u001b[0;32m7\u001b[0m\n\u001b[0;31m    print(\"El voltaje instantaneo en el tiempo\", tiempo, \"segundos es:\", voltaje instantaneo)\u001b[0m\n\u001b[0m                                                                         ^\u001b[0m\n\u001b[0;31mSyntaxError\u001b[0m\u001b[0;31m:\u001b[0m invalid syntax. Perhaps you forgot a comma?\n"
          ]
        }
      ]
    },
    {
      "cell_type": "code",
      "source": [],
      "metadata": {
        "id": "-zbzpLmGnL1q"
      },
      "execution_count": null,
      "outputs": []
    }
  ]
}